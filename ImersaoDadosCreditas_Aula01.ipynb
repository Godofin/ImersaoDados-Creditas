{
  "nbformat": 4,
  "nbformat_minor": 0,
  "metadata": {
    "colab": {
      "name": "ImersaoDadosCreditas-Aula01.ipynb",
      "provenance": [],
      "collapsed_sections": [],
      "authorship_tag": "ABX9TyPLO45R8o8+sIostKFLxO3I",
      "include_colab_link": true
    },
    "kernelspec": {
      "name": "python3",
      "display_name": "Python 3"
    },
    "language_info": {
      "name": "python"
    }
  },
  "cells": [
    {
      "cell_type": "markdown",
      "metadata": {
        "id": "view-in-github",
        "colab_type": "text"
      },
      "source": [
        "<a href=\"https://colab.research.google.com/github/Godofin/ImersaoDados-Creditas/blob/main/ImersaoDadosCreditas_Aula01.ipynb\" target=\"_parent\"><img src=\"https://colab.research.google.com/assets/colab-badge.svg\" alt=\"Open In Colab\"/></a>"
      ]
    },
    {
      "cell_type": "markdown",
      "source": [
        "# 01 - Puxando a base de dados"
      ],
      "metadata": {
        "id": "vyjv9R8i-r5Y"
      }
    },
    {
      "cell_type": "code",
      "source": [
        "import pandas as pd"
      ],
      "metadata": {
        "id": "em6pIOBY-wpx"
      },
      "execution_count": 3,
      "outputs": []
    },
    {
      "cell_type": "code",
      "source": [
        "# Add url do dataset do CSV em uma variável\n",
        "url = \"https://gist.githubusercontent.com/tgcsantos/3bdb29eba6ce391e90df2b72205ba891/raw/22fa920e80c9fa209a9fccc8b52d74cc95d1599b/dados_imoveis.csv\"\n",
        "dados = pd.read_csv(url)\n"
      ],
      "metadata": {
        "id": "ZEpSwU9v_RZz"
      },
      "execution_count": 10,
      "outputs": []
    },
    {
      "cell_type": "code",
      "source": [
        "# Plota as primeiras 5 linhas do dataset\n",
        "dados.head()"
      ],
      "metadata": {
        "colab": {
          "base_uri": "https://localhost:8080/",
          "height": 206
        },
        "id": "Wd4J7dnA_iFh",
        "outputId": "07da0483-bf63-4e87-f0e2-97e1e1bec294"
      },
      "execution_count": 16,
      "outputs": [
        {
          "output_type": "execute_result",
          "data": {
            "text/plain": [
              "                              Rua              Bairro     Cidade  Metragem  \\\n",
              "0           Avenida Itacira, 255    Planalto Paulista  São Paulo      1000   \n",
              "1  Rua Aurelia Perez Alvarez, 42   Jardim dos Estados  São Paulo       496   \n",
              "2                 Rua Alba Valdez     Jardim Reimberg  São Paulo       125   \n",
              "3                             NaN      Jardim Morumbi  São Paulo       310   \n",
              "4        Rua Tobias Barreto, 195                Mooca  São Paulo       100   \n",
              "\n",
              "   Quartos  Banheiros  Vagas         Valor  \n",
              "0        4          8      6  R$ 7.000.000  \n",
              "1        4          4      4  R$ 3.700.000  \n",
              "2        4          3      2    R$ 380.000  \n",
              "3        3          2      4    R$ 685.000  \n",
              "4        3          2      2    R$ 540.000  "
            ],
            "text/html": [
              "\n",
              "  <div id=\"df-7d1a1609-871f-43d7-bbdb-a9b97f5a42d1\">\n",
              "    <div class=\"colab-df-container\">\n",
              "      <div>\n",
              "<style scoped>\n",
              "    .dataframe tbody tr th:only-of-type {\n",
              "        vertical-align: middle;\n",
              "    }\n",
              "\n",
              "    .dataframe tbody tr th {\n",
              "        vertical-align: top;\n",
              "    }\n",
              "\n",
              "    .dataframe thead th {\n",
              "        text-align: right;\n",
              "    }\n",
              "</style>\n",
              "<table border=\"1\" class=\"dataframe\">\n",
              "  <thead>\n",
              "    <tr style=\"text-align: right;\">\n",
              "      <th></th>\n",
              "      <th>Rua</th>\n",
              "      <th>Bairro</th>\n",
              "      <th>Cidade</th>\n",
              "      <th>Metragem</th>\n",
              "      <th>Quartos</th>\n",
              "      <th>Banheiros</th>\n",
              "      <th>Vagas</th>\n",
              "      <th>Valor</th>\n",
              "    </tr>\n",
              "  </thead>\n",
              "  <tbody>\n",
              "    <tr>\n",
              "      <th>0</th>\n",
              "      <td>Avenida Itacira, 255</td>\n",
              "      <td>Planalto Paulista</td>\n",
              "      <td>São Paulo</td>\n",
              "      <td>1000</td>\n",
              "      <td>4</td>\n",
              "      <td>8</td>\n",
              "      <td>6</td>\n",
              "      <td>R$ 7.000.000</td>\n",
              "    </tr>\n",
              "    <tr>\n",
              "      <th>1</th>\n",
              "      <td>Rua Aurelia Perez Alvarez, 42</td>\n",
              "      <td>Jardim dos Estados</td>\n",
              "      <td>São Paulo</td>\n",
              "      <td>496</td>\n",
              "      <td>4</td>\n",
              "      <td>4</td>\n",
              "      <td>4</td>\n",
              "      <td>R$ 3.700.000</td>\n",
              "    </tr>\n",
              "    <tr>\n",
              "      <th>2</th>\n",
              "      <td>Rua Alba Valdez</td>\n",
              "      <td>Jardim Reimberg</td>\n",
              "      <td>São Paulo</td>\n",
              "      <td>125</td>\n",
              "      <td>4</td>\n",
              "      <td>3</td>\n",
              "      <td>2</td>\n",
              "      <td>R$ 380.000</td>\n",
              "    </tr>\n",
              "    <tr>\n",
              "      <th>3</th>\n",
              "      <td>NaN</td>\n",
              "      <td>Jardim Morumbi</td>\n",
              "      <td>São Paulo</td>\n",
              "      <td>310</td>\n",
              "      <td>3</td>\n",
              "      <td>2</td>\n",
              "      <td>4</td>\n",
              "      <td>R$ 685.000</td>\n",
              "    </tr>\n",
              "    <tr>\n",
              "      <th>4</th>\n",
              "      <td>Rua Tobias Barreto, 195</td>\n",
              "      <td>Mooca</td>\n",
              "      <td>São Paulo</td>\n",
              "      <td>100</td>\n",
              "      <td>3</td>\n",
              "      <td>2</td>\n",
              "      <td>2</td>\n",
              "      <td>R$ 540.000</td>\n",
              "    </tr>\n",
              "  </tbody>\n",
              "</table>\n",
              "</div>\n",
              "      <button class=\"colab-df-convert\" onclick=\"convertToInteractive('df-7d1a1609-871f-43d7-bbdb-a9b97f5a42d1')\"\n",
              "              title=\"Convert this dataframe to an interactive table.\"\n",
              "              style=\"display:none;\">\n",
              "        \n",
              "  <svg xmlns=\"http://www.w3.org/2000/svg\" height=\"24px\"viewBox=\"0 0 24 24\"\n",
              "       width=\"24px\">\n",
              "    <path d=\"M0 0h24v24H0V0z\" fill=\"none\"/>\n",
              "    <path d=\"M18.56 5.44l.94 2.06.94-2.06 2.06-.94-2.06-.94-.94-2.06-.94 2.06-2.06.94zm-11 1L8.5 8.5l.94-2.06 2.06-.94-2.06-.94L8.5 2.5l-.94 2.06-2.06.94zm10 10l.94 2.06.94-2.06 2.06-.94-2.06-.94-.94-2.06-.94 2.06-2.06.94z\"/><path d=\"M17.41 7.96l-1.37-1.37c-.4-.4-.92-.59-1.43-.59-.52 0-1.04.2-1.43.59L10.3 9.45l-7.72 7.72c-.78.78-.78 2.05 0 2.83L4 21.41c.39.39.9.59 1.41.59.51 0 1.02-.2 1.41-.59l7.78-7.78 2.81-2.81c.8-.78.8-2.07 0-2.86zM5.41 20L4 18.59l7.72-7.72 1.47 1.35L5.41 20z\"/>\n",
              "  </svg>\n",
              "      </button>\n",
              "      \n",
              "  <style>\n",
              "    .colab-df-container {\n",
              "      display:flex;\n",
              "      flex-wrap:wrap;\n",
              "      gap: 12px;\n",
              "    }\n",
              "\n",
              "    .colab-df-convert {\n",
              "      background-color: #E8F0FE;\n",
              "      border: none;\n",
              "      border-radius: 50%;\n",
              "      cursor: pointer;\n",
              "      display: none;\n",
              "      fill: #1967D2;\n",
              "      height: 32px;\n",
              "      padding: 0 0 0 0;\n",
              "      width: 32px;\n",
              "    }\n",
              "\n",
              "    .colab-df-convert:hover {\n",
              "      background-color: #E2EBFA;\n",
              "      box-shadow: 0px 1px 2px rgba(60, 64, 67, 0.3), 0px 1px 3px 1px rgba(60, 64, 67, 0.15);\n",
              "      fill: #174EA6;\n",
              "    }\n",
              "\n",
              "    [theme=dark] .colab-df-convert {\n",
              "      background-color: #3B4455;\n",
              "      fill: #D2E3FC;\n",
              "    }\n",
              "\n",
              "    [theme=dark] .colab-df-convert:hover {\n",
              "      background-color: #434B5C;\n",
              "      box-shadow: 0px 1px 3px 1px rgba(0, 0, 0, 0.15);\n",
              "      filter: drop-shadow(0px 1px 2px rgba(0, 0, 0, 0.3));\n",
              "      fill: #FFFFFF;\n",
              "    }\n",
              "  </style>\n",
              "\n",
              "      <script>\n",
              "        const buttonEl =\n",
              "          document.querySelector('#df-7d1a1609-871f-43d7-bbdb-a9b97f5a42d1 button.colab-df-convert');\n",
              "        buttonEl.style.display =\n",
              "          google.colab.kernel.accessAllowed ? 'block' : 'none';\n",
              "\n",
              "        async function convertToInteractive(key) {\n",
              "          const element = document.querySelector('#df-7d1a1609-871f-43d7-bbdb-a9b97f5a42d1');\n",
              "          const dataTable =\n",
              "            await google.colab.kernel.invokeFunction('convertToInteractive',\n",
              "                                                     [key], {});\n",
              "          if (!dataTable) return;\n",
              "\n",
              "          const docLinkHtml = 'Like what you see? Visit the ' +\n",
              "            '<a target=\"_blank\" href=https://colab.research.google.com/notebooks/data_table.ipynb>data table notebook</a>'\n",
              "            + ' to learn more about interactive tables.';\n",
              "          element.innerHTML = '';\n",
              "          dataTable['output_type'] = 'display_data';\n",
              "          await google.colab.output.renderOutput(dataTable, element);\n",
              "          const docLink = document.createElement('div');\n",
              "          docLink.innerHTML = docLinkHtml;\n",
              "          element.appendChild(docLink);\n",
              "        }\n",
              "      </script>\n",
              "    </div>\n",
              "  </div>\n",
              "  "
            ]
          },
          "metadata": {},
          "execution_count": 16
        }
      ]
    },
    {
      "cell_type": "code",
      "source": [
        "# Plota uma linha\n",
        "dados.sample()"
      ],
      "metadata": {
        "colab": {
          "base_uri": "https://localhost:8080/",
          "height": 81
        },
        "id": "0PG5DR0F_9vh",
        "outputId": "ae5f62c9-0f11-4dd7-a8f2-c2cf157124c2"
      },
      "execution_count": 17,
      "outputs": [
        {
          "output_type": "execute_result",
          "data": {
            "text/plain": [
              "      Rua          Bairro     Cidade  Metragem  Quartos  Banheiros  Vagas  \\\n",
              "7242  NaN  Vila Caraguatá  São Paulo       160        4          2      2   \n",
              "\n",
              "           Valor  \n",
              "7242  R$ 480.000  "
            ],
            "text/html": [
              "\n",
              "  <div id=\"df-765e2f24-4cb7-4e60-9b99-ff262087d4c4\">\n",
              "    <div class=\"colab-df-container\">\n",
              "      <div>\n",
              "<style scoped>\n",
              "    .dataframe tbody tr th:only-of-type {\n",
              "        vertical-align: middle;\n",
              "    }\n",
              "\n",
              "    .dataframe tbody tr th {\n",
              "        vertical-align: top;\n",
              "    }\n",
              "\n",
              "    .dataframe thead th {\n",
              "        text-align: right;\n",
              "    }\n",
              "</style>\n",
              "<table border=\"1\" class=\"dataframe\">\n",
              "  <thead>\n",
              "    <tr style=\"text-align: right;\">\n",
              "      <th></th>\n",
              "      <th>Rua</th>\n",
              "      <th>Bairro</th>\n",
              "      <th>Cidade</th>\n",
              "      <th>Metragem</th>\n",
              "      <th>Quartos</th>\n",
              "      <th>Banheiros</th>\n",
              "      <th>Vagas</th>\n",
              "      <th>Valor</th>\n",
              "    </tr>\n",
              "  </thead>\n",
              "  <tbody>\n",
              "    <tr>\n",
              "      <th>7242</th>\n",
              "      <td>NaN</td>\n",
              "      <td>Vila Caraguatá</td>\n",
              "      <td>São Paulo</td>\n",
              "      <td>160</td>\n",
              "      <td>4</td>\n",
              "      <td>2</td>\n",
              "      <td>2</td>\n",
              "      <td>R$ 480.000</td>\n",
              "    </tr>\n",
              "  </tbody>\n",
              "</table>\n",
              "</div>\n",
              "      <button class=\"colab-df-convert\" onclick=\"convertToInteractive('df-765e2f24-4cb7-4e60-9b99-ff262087d4c4')\"\n",
              "              title=\"Convert this dataframe to an interactive table.\"\n",
              "              style=\"display:none;\">\n",
              "        \n",
              "  <svg xmlns=\"http://www.w3.org/2000/svg\" height=\"24px\"viewBox=\"0 0 24 24\"\n",
              "       width=\"24px\">\n",
              "    <path d=\"M0 0h24v24H0V0z\" fill=\"none\"/>\n",
              "    <path d=\"M18.56 5.44l.94 2.06.94-2.06 2.06-.94-2.06-.94-.94-2.06-.94 2.06-2.06.94zm-11 1L8.5 8.5l.94-2.06 2.06-.94-2.06-.94L8.5 2.5l-.94 2.06-2.06.94zm10 10l.94 2.06.94-2.06 2.06-.94-2.06-.94-.94-2.06-.94 2.06-2.06.94z\"/><path d=\"M17.41 7.96l-1.37-1.37c-.4-.4-.92-.59-1.43-.59-.52 0-1.04.2-1.43.59L10.3 9.45l-7.72 7.72c-.78.78-.78 2.05 0 2.83L4 21.41c.39.39.9.59 1.41.59.51 0 1.02-.2 1.41-.59l7.78-7.78 2.81-2.81c.8-.78.8-2.07 0-2.86zM5.41 20L4 18.59l7.72-7.72 1.47 1.35L5.41 20z\"/>\n",
              "  </svg>\n",
              "      </button>\n",
              "      \n",
              "  <style>\n",
              "    .colab-df-container {\n",
              "      display:flex;\n",
              "      flex-wrap:wrap;\n",
              "      gap: 12px;\n",
              "    }\n",
              "\n",
              "    .colab-df-convert {\n",
              "      background-color: #E8F0FE;\n",
              "      border: none;\n",
              "      border-radius: 50%;\n",
              "      cursor: pointer;\n",
              "      display: none;\n",
              "      fill: #1967D2;\n",
              "      height: 32px;\n",
              "      padding: 0 0 0 0;\n",
              "      width: 32px;\n",
              "    }\n",
              "\n",
              "    .colab-df-convert:hover {\n",
              "      background-color: #E2EBFA;\n",
              "      box-shadow: 0px 1px 2px rgba(60, 64, 67, 0.3), 0px 1px 3px 1px rgba(60, 64, 67, 0.15);\n",
              "      fill: #174EA6;\n",
              "    }\n",
              "\n",
              "    [theme=dark] .colab-df-convert {\n",
              "      background-color: #3B4455;\n",
              "      fill: #D2E3FC;\n",
              "    }\n",
              "\n",
              "    [theme=dark] .colab-df-convert:hover {\n",
              "      background-color: #434B5C;\n",
              "      box-shadow: 0px 1px 3px 1px rgba(0, 0, 0, 0.15);\n",
              "      filter: drop-shadow(0px 1px 2px rgba(0, 0, 0, 0.3));\n",
              "      fill: #FFFFFF;\n",
              "    }\n",
              "  </style>\n",
              "\n",
              "      <script>\n",
              "        const buttonEl =\n",
              "          document.querySelector('#df-765e2f24-4cb7-4e60-9b99-ff262087d4c4 button.colab-df-convert');\n",
              "        buttonEl.style.display =\n",
              "          google.colab.kernel.accessAllowed ? 'block' : 'none';\n",
              "\n",
              "        async function convertToInteractive(key) {\n",
              "          const element = document.querySelector('#df-765e2f24-4cb7-4e60-9b99-ff262087d4c4');\n",
              "          const dataTable =\n",
              "            await google.colab.kernel.invokeFunction('convertToInteractive',\n",
              "                                                     [key], {});\n",
              "          if (!dataTable) return;\n",
              "\n",
              "          const docLinkHtml = 'Like what you see? Visit the ' +\n",
              "            '<a target=\"_blank\" href=https://colab.research.google.com/notebooks/data_table.ipynb>data table notebook</a>'\n",
              "            + ' to learn more about interactive tables.';\n",
              "          element.innerHTML = '';\n",
              "          dataTable['output_type'] = 'display_data';\n",
              "          await google.colab.output.renderOutput(dataTable, element);\n",
              "          const docLink = document.createElement('div');\n",
              "          docLink.innerHTML = docLinkHtml;\n",
              "          element.appendChild(docLink);\n",
              "        }\n",
              "      </script>\n",
              "    </div>\n",
              "  </div>\n",
              "  "
            ]
          },
          "metadata": {},
          "execution_count": 17
        }
      ]
    },
    {
      "cell_type": "code",
      "source": [
        "# Query de dados específicos [parametro1][parametro2]....\n",
        "dados['Bairro'][6522]"
      ],
      "metadata": {
        "colab": {
          "base_uri": "https://localhost:8080/",
          "height": 35
        },
        "id": "1lMHlqdwBcKk",
        "outputId": "f2f11bc2-4f12-41b2-ae9d-d2ece8435cb9"
      },
      "execution_count": 23,
      "outputs": [
        {
          "output_type": "execute_result",
          "data": {
            "text/plain": [
              "'Vila Paulo Silas'"
            ],
            "application/vnd.google.colaboratory.intrinsic+json": {
              "type": "string"
            }
          },
          "metadata": {},
          "execution_count": 23
        }
      ]
    },
    {
      "cell_type": "code",
      "source": [
        "# Traz a informação dos dados e seus tipos do dataset\n",
        "dados.info()"
      ],
      "metadata": {
        "colab": {
          "base_uri": "https://localhost:8080/"
        },
        "id": "gqMW4-qXCMYN",
        "outputId": "0a6dcf41-fb08-4be8-cb11-8123c27ef978"
      },
      "execution_count": 25,
      "outputs": [
        {
          "output_type": "stream",
          "name": "stdout",
          "text": [
            "<class 'pandas.core.frame.DataFrame'>\n",
            "RangeIndex: 10008 entries, 0 to 10007\n",
            "Data columns (total 8 columns):\n",
            " #   Column     Non-Null Count  Dtype \n",
            "---  ------     --------------  ----- \n",
            " 0   Rua        6574 non-null   object\n",
            " 1   Bairro     9996 non-null   object\n",
            " 2   Cidade     10008 non-null  object\n",
            " 3   Metragem   10008 non-null  int64 \n",
            " 4   Quartos    10008 non-null  int64 \n",
            " 5   Banheiros  10008 non-null  int64 \n",
            " 6   Vagas      10008 non-null  int64 \n",
            " 7   Valor      10008 non-null  object\n",
            "dtypes: int64(4), object(4)\n",
            "memory usage: 625.6+ KB\n"
          ]
        }
      ]
    },
    {
      "cell_type": "code",
      "source": [
        "# Média de metragem \n",
        "\n",
        "print(\"Média da metragem da base de dados:\", dados.Metragem.mean())\n",
        "print(\"Mediana da metragem da base de dados:\", dados.Metragem.median())"
      ],
      "metadata": {
        "colab": {
          "base_uri": "https://localhost:8080/"
        },
        "id": "Rajn4oZVCmWC",
        "outputId": "fa24f707-c18a-4fe3-fa07-8e64afb9709d"
      },
      "execution_count": 38,
      "outputs": [
        {
          "output_type": "stream",
          "name": "stdout",
          "text": [
            "Média da metragem da base de dados: 442.30065947242207\n",
            "Mediana da metragem da base de dados: 290.0\n"
          ]
        }
      ]
    },
    {
      "cell_type": "code",
      "source": [
        "dados.Bairro"
      ],
      "metadata": {
        "colab": {
          "base_uri": "https://localhost:8080/"
        },
        "id": "KI6IArTODCPj",
        "outputId": "f6d9e03f-806c-4281-a30b-ec42afe0787a"
      },
      "execution_count": 39,
      "outputs": [
        {
          "output_type": "execute_result",
          "data": {
            "text/plain": [
              "0         Planalto Paulista\n",
              "1        Jardim dos Estados\n",
              "2           Jardim Reimberg\n",
              "3            Jardim Morumbi\n",
              "4                     Mooca\n",
              "                ...        \n",
              "10003            Vila Sofia\n",
              "10004       Bosque da Saúde\n",
              "10005         Vila da Saúde\n",
              "10006         Vila Oratório\n",
              "10007           Vila Alpina\n",
              "Name: Bairro, Length: 10008, dtype: object"
            ]
          },
          "metadata": {},
          "execution_count": 39
        }
      ]
    },
    {
      "cell_type": "code",
      "source": [
        "sum(dados['Bairro'] == \"Vila Mariana\")"
      ],
      "metadata": {
        "colab": {
          "base_uri": "https://localhost:8080/"
        },
        "id": "pW2BS5VSEwci",
        "outputId": "1318354f-cc52-458d-9742-5a36ac2c88c4"
      },
      "execution_count": 42,
      "outputs": [
        {
          "output_type": "execute_result",
          "data": {
            "text/plain": [
              "184"
            ]
          },
          "metadata": {},
          "execution_count": 42
        }
      ]
    },
    {
      "cell_type": "code",
      "source": [
        "tem_imoveis_vila = dados['Bairro'] == \"Vila Mariana\"\n",
        "tem_imoveis_vila"
      ],
      "metadata": {
        "colab": {
          "base_uri": "https://localhost:8080/"
        },
        "id": "YYrDyHHxEklj",
        "outputId": "900e6405-5c87-46ea-cdb2-a2205e4318b1"
      },
      "execution_count": 43,
      "outputs": [
        {
          "output_type": "execute_result",
          "data": {
            "text/plain": [
              "0        False\n",
              "1        False\n",
              "2        False\n",
              "3        False\n",
              "4        False\n",
              "         ...  \n",
              "10003    False\n",
              "10004    False\n",
              "10005    False\n",
              "10006    False\n",
              "10007    False\n",
              "Name: Bairro, Length: 10008, dtype: bool"
            ]
          },
          "metadata": {},
          "execution_count": 43
        }
      ]
    },
    {
      "cell_type": "code",
      "source": [
        "imoveis_vila_mariana = dados[tem_imoveis_vila]\n",
        "imoveis_vila_mariana"
      ],
      "metadata": {
        "colab": {
          "base_uri": "https://localhost:8080/",
          "height": 424
        },
        "id": "yx0GthiqE50R",
        "outputId": "2e3c1238-d0bf-4e0d-f7c9-ab2755984705"
      },
      "execution_count": 47,
      "outputs": [
        {
          "output_type": "execute_result",
          "data": {
            "text/plain": [
              "                               Rua        Bairro     Cidade  Metragem  \\\n",
              "100               Rua Pero Correia  Vila Mariana  São Paulo       250   \n",
              "120   Praça Doutor Carvalho Franco  Vila Mariana  São Paulo       250   \n",
              "155     Rua Professor João Marinho  Vila Mariana  São Paulo       170   \n",
              "160                            NaN  Vila Mariana  São Paulo       228   \n",
              "334         Rua Pero Correia, 892   Vila Mariana  São Paulo       350   \n",
              "...                            ...           ...        ...       ...   \n",
              "9645               Rua Sousa Ramos  Vila Mariana  São Paulo       285   \n",
              "9701             Rua Benito Juarez  Vila Mariana  São Paulo       171   \n",
              "9737             Rua Benito Juarez  Vila Mariana  São Paulo       171   \n",
              "9807                           NaN  Vila Mariana  São Paulo       275   \n",
              "9852              Rua França Pinto  Vila Mariana  São Paulo       280   \n",
              "\n",
              "      Quartos  Banheiros  Vagas         Valor  \n",
              "100         3          3      1  R$ 1.350.000  \n",
              "120         3          5      2  R$ 2.450.000  \n",
              "155         3          4      2  R$ 1.490.000  \n",
              "160         4          5      3  R$ 2.200.000  \n",
              "334         6          4     10  R$ 1.700.000  \n",
              "...       ...        ...    ...           ...  \n",
              "9645        3          5      5  R$ 1.650.000  \n",
              "9701        3          2      4  R$ 1.650.000  \n",
              "9737        3          2      4  R$ 1.650.000  \n",
              "9807        3          1      6  R$ 1.500.000  \n",
              "9852        3          3      4  R$ 1.600.000  \n",
              "\n",
              "[184 rows x 8 columns]"
            ],
            "text/html": [
              "\n",
              "  <div id=\"df-50dc6979-3347-4d11-b1d0-eb3833380185\">\n",
              "    <div class=\"colab-df-container\">\n",
              "      <div>\n",
              "<style scoped>\n",
              "    .dataframe tbody tr th:only-of-type {\n",
              "        vertical-align: middle;\n",
              "    }\n",
              "\n",
              "    .dataframe tbody tr th {\n",
              "        vertical-align: top;\n",
              "    }\n",
              "\n",
              "    .dataframe thead th {\n",
              "        text-align: right;\n",
              "    }\n",
              "</style>\n",
              "<table border=\"1\" class=\"dataframe\">\n",
              "  <thead>\n",
              "    <tr style=\"text-align: right;\">\n",
              "      <th></th>\n",
              "      <th>Rua</th>\n",
              "      <th>Bairro</th>\n",
              "      <th>Cidade</th>\n",
              "      <th>Metragem</th>\n",
              "      <th>Quartos</th>\n",
              "      <th>Banheiros</th>\n",
              "      <th>Vagas</th>\n",
              "      <th>Valor</th>\n",
              "    </tr>\n",
              "  </thead>\n",
              "  <tbody>\n",
              "    <tr>\n",
              "      <th>100</th>\n",
              "      <td>Rua Pero Correia</td>\n",
              "      <td>Vila Mariana</td>\n",
              "      <td>São Paulo</td>\n",
              "      <td>250</td>\n",
              "      <td>3</td>\n",
              "      <td>3</td>\n",
              "      <td>1</td>\n",
              "      <td>R$ 1.350.000</td>\n",
              "    </tr>\n",
              "    <tr>\n",
              "      <th>120</th>\n",
              "      <td>Praça Doutor Carvalho Franco</td>\n",
              "      <td>Vila Mariana</td>\n",
              "      <td>São Paulo</td>\n",
              "      <td>250</td>\n",
              "      <td>3</td>\n",
              "      <td>5</td>\n",
              "      <td>2</td>\n",
              "      <td>R$ 2.450.000</td>\n",
              "    </tr>\n",
              "    <tr>\n",
              "      <th>155</th>\n",
              "      <td>Rua Professor João Marinho</td>\n",
              "      <td>Vila Mariana</td>\n",
              "      <td>São Paulo</td>\n",
              "      <td>170</td>\n",
              "      <td>3</td>\n",
              "      <td>4</td>\n",
              "      <td>2</td>\n",
              "      <td>R$ 1.490.000</td>\n",
              "    </tr>\n",
              "    <tr>\n",
              "      <th>160</th>\n",
              "      <td>NaN</td>\n",
              "      <td>Vila Mariana</td>\n",
              "      <td>São Paulo</td>\n",
              "      <td>228</td>\n",
              "      <td>4</td>\n",
              "      <td>5</td>\n",
              "      <td>3</td>\n",
              "      <td>R$ 2.200.000</td>\n",
              "    </tr>\n",
              "    <tr>\n",
              "      <th>334</th>\n",
              "      <td>Rua Pero Correia, 892</td>\n",
              "      <td>Vila Mariana</td>\n",
              "      <td>São Paulo</td>\n",
              "      <td>350</td>\n",
              "      <td>6</td>\n",
              "      <td>4</td>\n",
              "      <td>10</td>\n",
              "      <td>R$ 1.700.000</td>\n",
              "    </tr>\n",
              "    <tr>\n",
              "      <th>...</th>\n",
              "      <td>...</td>\n",
              "      <td>...</td>\n",
              "      <td>...</td>\n",
              "      <td>...</td>\n",
              "      <td>...</td>\n",
              "      <td>...</td>\n",
              "      <td>...</td>\n",
              "      <td>...</td>\n",
              "    </tr>\n",
              "    <tr>\n",
              "      <th>9645</th>\n",
              "      <td>Rua Sousa Ramos</td>\n",
              "      <td>Vila Mariana</td>\n",
              "      <td>São Paulo</td>\n",
              "      <td>285</td>\n",
              "      <td>3</td>\n",
              "      <td>5</td>\n",
              "      <td>5</td>\n",
              "      <td>R$ 1.650.000</td>\n",
              "    </tr>\n",
              "    <tr>\n",
              "      <th>9701</th>\n",
              "      <td>Rua Benito Juarez</td>\n",
              "      <td>Vila Mariana</td>\n",
              "      <td>São Paulo</td>\n",
              "      <td>171</td>\n",
              "      <td>3</td>\n",
              "      <td>2</td>\n",
              "      <td>4</td>\n",
              "      <td>R$ 1.650.000</td>\n",
              "    </tr>\n",
              "    <tr>\n",
              "      <th>9737</th>\n",
              "      <td>Rua Benito Juarez</td>\n",
              "      <td>Vila Mariana</td>\n",
              "      <td>São Paulo</td>\n",
              "      <td>171</td>\n",
              "      <td>3</td>\n",
              "      <td>2</td>\n",
              "      <td>4</td>\n",
              "      <td>R$ 1.650.000</td>\n",
              "    </tr>\n",
              "    <tr>\n",
              "      <th>9807</th>\n",
              "      <td>NaN</td>\n",
              "      <td>Vila Mariana</td>\n",
              "      <td>São Paulo</td>\n",
              "      <td>275</td>\n",
              "      <td>3</td>\n",
              "      <td>1</td>\n",
              "      <td>6</td>\n",
              "      <td>R$ 1.500.000</td>\n",
              "    </tr>\n",
              "    <tr>\n",
              "      <th>9852</th>\n",
              "      <td>Rua França Pinto</td>\n",
              "      <td>Vila Mariana</td>\n",
              "      <td>São Paulo</td>\n",
              "      <td>280</td>\n",
              "      <td>3</td>\n",
              "      <td>3</td>\n",
              "      <td>4</td>\n",
              "      <td>R$ 1.600.000</td>\n",
              "    </tr>\n",
              "  </tbody>\n",
              "</table>\n",
              "<p>184 rows × 8 columns</p>\n",
              "</div>\n",
              "      <button class=\"colab-df-convert\" onclick=\"convertToInteractive('df-50dc6979-3347-4d11-b1d0-eb3833380185')\"\n",
              "              title=\"Convert this dataframe to an interactive table.\"\n",
              "              style=\"display:none;\">\n",
              "        \n",
              "  <svg xmlns=\"http://www.w3.org/2000/svg\" height=\"24px\"viewBox=\"0 0 24 24\"\n",
              "       width=\"24px\">\n",
              "    <path d=\"M0 0h24v24H0V0z\" fill=\"none\"/>\n",
              "    <path d=\"M18.56 5.44l.94 2.06.94-2.06 2.06-.94-2.06-.94-.94-2.06-.94 2.06-2.06.94zm-11 1L8.5 8.5l.94-2.06 2.06-.94-2.06-.94L8.5 2.5l-.94 2.06-2.06.94zm10 10l.94 2.06.94-2.06 2.06-.94-2.06-.94-.94-2.06-.94 2.06-2.06.94z\"/><path d=\"M17.41 7.96l-1.37-1.37c-.4-.4-.92-.59-1.43-.59-.52 0-1.04.2-1.43.59L10.3 9.45l-7.72 7.72c-.78.78-.78 2.05 0 2.83L4 21.41c.39.39.9.59 1.41.59.51 0 1.02-.2 1.41-.59l7.78-7.78 2.81-2.81c.8-.78.8-2.07 0-2.86zM5.41 20L4 18.59l7.72-7.72 1.47 1.35L5.41 20z\"/>\n",
              "  </svg>\n",
              "      </button>\n",
              "      \n",
              "  <style>\n",
              "    .colab-df-container {\n",
              "      display:flex;\n",
              "      flex-wrap:wrap;\n",
              "      gap: 12px;\n",
              "    }\n",
              "\n",
              "    .colab-df-convert {\n",
              "      background-color: #E8F0FE;\n",
              "      border: none;\n",
              "      border-radius: 50%;\n",
              "      cursor: pointer;\n",
              "      display: none;\n",
              "      fill: #1967D2;\n",
              "      height: 32px;\n",
              "      padding: 0 0 0 0;\n",
              "      width: 32px;\n",
              "    }\n",
              "\n",
              "    .colab-df-convert:hover {\n",
              "      background-color: #E2EBFA;\n",
              "      box-shadow: 0px 1px 2px rgba(60, 64, 67, 0.3), 0px 1px 3px 1px rgba(60, 64, 67, 0.15);\n",
              "      fill: #174EA6;\n",
              "    }\n",
              "\n",
              "    [theme=dark] .colab-df-convert {\n",
              "      background-color: #3B4455;\n",
              "      fill: #D2E3FC;\n",
              "    }\n",
              "\n",
              "    [theme=dark] .colab-df-convert:hover {\n",
              "      background-color: #434B5C;\n",
              "      box-shadow: 0px 1px 3px 1px rgba(0, 0, 0, 0.15);\n",
              "      filter: drop-shadow(0px 1px 2px rgba(0, 0, 0, 0.3));\n",
              "      fill: #FFFFFF;\n",
              "    }\n",
              "  </style>\n",
              "\n",
              "      <script>\n",
              "        const buttonEl =\n",
              "          document.querySelector('#df-50dc6979-3347-4d11-b1d0-eb3833380185 button.colab-df-convert');\n",
              "        buttonEl.style.display =\n",
              "          google.colab.kernel.accessAllowed ? 'block' : 'none';\n",
              "\n",
              "        async function convertToInteractive(key) {\n",
              "          const element = document.querySelector('#df-50dc6979-3347-4d11-b1d0-eb3833380185');\n",
              "          const dataTable =\n",
              "            await google.colab.kernel.invokeFunction('convertToInteractive',\n",
              "                                                     [key], {});\n",
              "          if (!dataTable) return;\n",
              "\n",
              "          const docLinkHtml = 'Like what you see? Visit the ' +\n",
              "            '<a target=\"_blank\" href=https://colab.research.google.com/notebooks/data_table.ipynb>data table notebook</a>'\n",
              "            + ' to learn more about interactive tables.';\n",
              "          element.innerHTML = '';\n",
              "          dataTable['output_type'] = 'display_data';\n",
              "          await google.colab.output.renderOutput(dataTable, element);\n",
              "          const docLink = document.createElement('div');\n",
              "          docLink.innerHTML = docLinkHtml;\n",
              "          element.appendChild(docLink);\n",
              "        }\n",
              "      </script>\n",
              "    </div>\n",
              "  </div>\n",
              "  "
            ]
          },
          "metadata": {},
          "execution_count": 47
        }
      ]
    },
    {
      "cell_type": "code",
      "source": [
        "print(\"A média de metragem no bairro vila mariana é de:\", imoveis_vila_mariana['Metragem'].mean())"
      ],
      "metadata": {
        "colab": {
          "base_uri": "https://localhost:8080/"
        },
        "id": "jE459_DcFaBh",
        "outputId": "aaee4f2a-661a-4999-f967-42509112bbad"
      },
      "execution_count": 51,
      "outputs": [
        {
          "output_type": "stream",
          "name": "stdout",
          "text": [
            "A média de metragem no bairro vila mariana é de: 233.6195652173913\n"
          ]
        }
      ]
    },
    {
      "cell_type": "code",
      "source": [
        "dados['Bairro'].value_counts()"
      ],
      "metadata": {
        "colab": {
          "base_uri": "https://localhost:8080/"
        },
        "id": "szUIBYGrFpsi",
        "outputId": "b530be7c-3056-4e38-ab62-294f54ae67d9"
      },
      "execution_count": 53,
      "outputs": [
        {
          "output_type": "execute_result",
          "data": {
            "text/plain": [
              "Alto de Pinheiros     409\n",
              "Jardim Guedala        403\n",
              "Jardim Paulista       309\n",
              "Brooklin Paulista     247\n",
              "Jardim Europa         240\n",
              "                     ... \n",
              "Jardim das Imbuias      1\n",
              "Vila Represa            1\n",
              "Vila Nancy              1\n",
              "Sítio Represa           1\n",
              "Vila Invernada          1\n",
              "Name: Bairro, Length: 701, dtype: int64"
            ]
          },
          "metadata": {},
          "execution_count": 53
        }
      ]
    },
    {
      "cell_type": "code",
      "source": [
        "#Plotando um gráfico de barras\n",
        "N_Imoveis_Bairro = dados['Bairro'].value_counts()\n",
        "N_Imoveis_Bairro.head(20).plot.bar()"
      ],
      "metadata": {
        "colab": {
          "base_uri": "https://localhost:8080/",
          "height": 359
        },
        "id": "AJMZhdEFGVFs",
        "outputId": "13d50ab6-9058-4a85-ce61-f33acdb7f820"
      },
      "execution_count": 56,
      "outputs": [
        {
          "output_type": "execute_result",
          "data": {
            "text/plain": [
              "<matplotlib.axes._subplots.AxesSubplot at 0x7f08bae9d5d0>"
            ]
          },
          "metadata": {},
          "execution_count": 56
        },
        {
          "output_type": "display_data",
          "data": {
            "text/plain": [
              "<Figure size 432x288 with 1 Axes>"
            ],
            "image/png": "[encoded data removed]"
          },
          "metadata": {
            "needs_background": "light"
          }
        }
      ]
    },
    {
      "cell_type": "markdown",
      "source": [
        "# Desafio 1: Realizar a média da metragem para cada um dos bairros."
      ],
      "metadata": {
        "id": "Dotr5vAtH3BG"
      }
    },
    {
      "cell_type": "code",
      "source": [
        "dados_bairro = dados.groupby(['Bairro']).mean()\n",
        "pd.DataFrame(data=dados_bairro['Metragem'])"
      ],
      "metadata": {
        "colab": {
          "base_uri": "https://localhost:8080/",
          "height": 455
        },
        "id": "U-3knZibG5MN",
        "outputId": "81dcb497-e42d-460e-9561-ebbfa8d0c305"
      },
      "execution_count": 68,
      "outputs": [
        {
          "output_type": "execute_result",
          "data": {
            "text/plain": [
              "                     Metragem\n",
              "Bairro                       \n",
              "Aclimação          253.056818\n",
              "Alto da Boa Vista  418.875000\n",
              "Alto da Lapa       294.337209\n",
              "Alto da Mooca      270.050000\n",
              "Alto de Pinheiros  433.444988\n",
              "...                       ...\n",
              "Vila Água Funda    152.200000\n",
              "Água Branca        191.000000\n",
              "Água Fria          165.416667\n",
              "Água Funda         139.000000\n",
              "Água Rasa          340.250000\n",
              "\n",
              "[701 rows x 1 columns]"
            ],
            "text/html": [
              "\n",
              "  <div id=\"df-804c2853-c059-41bd-a03f-03a1b2516851\">\n",
              "    <div class=\"colab-df-container\">\n",
              "      <div>\n",
              "<style scoped>\n",
              "    .dataframe tbody tr th:only-of-type {\n",
              "        vertical-align: middle;\n",
              "    }\n",
              "\n",
              "    .dataframe tbody tr th {\n",
              "        vertical-align: top;\n",
              "    }\n",
              "\n",
              "    .dataframe thead th {\n",
              "        text-align: right;\n",
              "    }\n",
              "</style>\n",
              "<table border=\"1\" class=\"dataframe\">\n",
              "  <thead>\n",
              "    <tr style=\"text-align: right;\">\n",
              "      <th></th>\n",
              "      <th>Metragem</th>\n",
              "    </tr>\n",
              "    <tr>\n",
              "      <th>Bairro</th>\n",
              "      <th></th>\n",
              "    </tr>\n",
              "  </thead>\n",
              "  <tbody>\n",
              "    <tr>\n",
              "      <th>Aclimação</th>\n",
              "      <td>253.056818</td>\n",
              "    </tr>\n",
              "    <tr>\n",
              "      <th>Alto da Boa Vista</th>\n",
              "      <td>418.875000</td>\n",
              "    </tr>\n",
              "    <tr>\n",
              "      <th>Alto da Lapa</th>\n",
              "      <td>294.337209</td>\n",
              "    </tr>\n",
              "    <tr>\n",
              "      <th>Alto da Mooca</th>\n",
              "      <td>270.050000</td>\n",
              "    </tr>\n",
              "    <tr>\n",
              "      <th>Alto de Pinheiros</th>\n",
              "      <td>433.444988</td>\n",
              "    </tr>\n",
              "    <tr>\n",
              "      <th>...</th>\n",
              "      <td>...</td>\n",
              "    </tr>\n",
              "    <tr>\n",
              "      <th>Vila Água Funda</th>\n",
              "      <td>152.200000</td>\n",
              "    </tr>\n",
              "    <tr>\n",
              "      <th>Água Branca</th>\n",
              "      <td>191.000000</td>\n",
              "    </tr>\n",
              "    <tr>\n",
              "      <th>Água Fria</th>\n",
              "      <td>165.416667</td>\n",
              "    </tr>\n",
              "    <tr>\n",
              "      <th>Água Funda</th>\n",
              "      <td>139.000000</td>\n",
              "    </tr>\n",
              "    <tr>\n",
              "      <th>Água Rasa</th>\n",
              "      <td>340.250000</td>\n",
              "    </tr>\n",
              "  </tbody>\n",
              "</table>\n",
              "<p>701 rows × 1 columns</p>\n",
              "</div>\n",
              "      <button class=\"colab-df-convert\" onclick=\"convertToInteractive('df-804c2853-c059-41bd-a03f-03a1b2516851')\"\n",
              "              title=\"Convert this dataframe to an interactive table.\"\n",
              "              style=\"display:none;\">\n",
              "        \n",
              "  <svg xmlns=\"http://www.w3.org/2000/svg\" height=\"24px\"viewBox=\"0 0 24 24\"\n",
              "       width=\"24px\">\n",
              "    <path d=\"M0 0h24v24H0V0z\" fill=\"none\"/>\n",
              "    <path d=\"M18.56 5.44l.94 2.06.94-2.06 2.06-.94-2.06-.94-.94-2.06-.94 2.06-2.06.94zm-11 1L8.5 8.5l.94-2.06 2.06-.94-2.06-.94L8.5 2.5l-.94 2.06-2.06.94zm10 10l.94 2.06.94-2.06 2.06-.94-2.06-.94-.94-2.06-.94 2.06-2.06.94z\"/><path d=\"M17.41 7.96l-1.37-1.37c-.4-.4-.92-.59-1.43-.59-.52 0-1.04.2-1.43.59L10.3 9.45l-7.72 7.72c-.78.78-.78 2.05 0 2.83L4 21.41c.39.39.9.59 1.41.59.51 0 1.02-.2 1.41-.59l7.78-7.78 2.81-2.81c.8-.78.8-2.07 0-2.86zM5.41 20L4 18.59l7.72-7.72 1.47 1.35L5.41 20z\"/>\n",
              "  </svg>\n",
              "      </button>\n",
              "      \n",
              "  <style>\n",
              "    .colab-df-container {\n",
              "      display:flex;\n",
              "      flex-wrap:wrap;\n",
              "      gap: 12px;\n",
              "    }\n",
              "\n",
              "    .colab-df-convert {\n",
              "      background-color: #E8F0FE;\n",
              "      border: none;\n",
              "      border-radius: 50%;\n",
              "      cursor: pointer;\n",
              "      display: none;\n",
              "      fill: #1967D2;\n",
              "      height: 32px;\n",
              "      padding: 0 0 0 0;\n",
              "      width: 32px;\n",
              "    }\n",
              "\n",
              "    .colab-df-convert:hover {\n",
              "      background-color: #E2EBFA;\n",
              "      box-shadow: 0px 1px 2px rgba(60, 64, 67, 0.3), 0px 1px 3px 1px rgba(60, 64, 67, 0.15);\n",
              "      fill: #174EA6;\n",
              "    }\n",
              "\n",
              "    [theme=dark] .colab-df-convert {\n",
              "      background-color: #3B4455;\n",
              "      fill: #D2E3FC;\n",
              "    }\n",
              "\n",
              "    [theme=dark] .colab-df-convert:hover {\n",
              "      background-color: #434B5C;\n",
              "      box-shadow: 0px 1px 3px 1px rgba(0, 0, 0, 0.15);\n",
              "      filter: drop-shadow(0px 1px 2px rgba(0, 0, 0, 0.3));\n",
              "      fill: #FFFFFF;\n",
              "    }\n",
              "  </style>\n",
              "\n",
              "      <script>\n",
              "        const buttonEl =\n",
              "          document.querySelector('#df-804c2853-c059-41bd-a03f-03a1b2516851 button.colab-df-convert');\n",
              "        buttonEl.style.display =\n",
              "          google.colab.kernel.accessAllowed ? 'block' : 'none';\n",
              "\n",
              "        async function convertToInteractive(key) {\n",
              "          const element = document.querySelector('#df-804c2853-c059-41bd-a03f-03a1b2516851');\n",
              "          const dataTable =\n",
              "            await google.colab.kernel.invokeFunction('convertToInteractive',\n",
              "                                                     [key], {});\n",
              "          if (!dataTable) return;\n",
              "\n",
              "          const docLinkHtml = 'Like what you see? Visit the ' +\n",
              "            '<a target=\"_blank\" href=https://colab.research.google.com/notebooks/data_table.ipynb>data table notebook</a>'\n",
              "            + ' to learn more about interactive tables.';\n",
              "          element.innerHTML = '';\n",
              "          dataTable['output_type'] = 'display_data';\n",
              "          await google.colab.output.renderOutput(dataTable, element);\n",
              "          const docLink = document.createElement('div');\n",
              "          docLink.innerHTML = docLinkHtml;\n",
              "          element.appendChild(docLink);\n",
              "        }\n",
              "      </script>\n",
              "    </div>\n",
              "  </div>\n",
              "  "
            ]
          },
          "metadata": {},
          "execution_count": 68
        }
      ]
    },
    {
      "cell_type": "markdown",
      "source": [
        "# Desafio 2: Duas formas de selecionar os dados por bairro (consultar os métodos na documentação do Pandas)."
      ],
      "metadata": {
        "id": "-8rLWPAHJoE4"
      }
    },
    {
      "cell_type": "code",
      "source": [
        "#Forma numero 1\n",
        "dados['Bairro'].unique()"
      ],
      "metadata": {
        "colab": {
          "base_uri": "https://localhost:8080/"
        },
        "id": "WcICJIgpJsY9",
        "outputId": "473fe44b-ecbd-4277-c7fb-4bf3d739592e"
      },
      "execution_count": 71,
      "outputs": [
        {
          "output_type": "execute_result",
          "data": {
            "text/plain": [
              "array(['Planalto Paulista', 'Jardim dos Estados', 'Jardim Reimberg',\n",
              "       'Jardim Morumbi', 'Mooca', 'Santo Amaro', 'Cidade Mãe do Céu',\n",
              "       'Jardim Vergueiro', 'Jardim Benfica', 'Vila Alpina',\n",
              "       'Vila Monumento', 'Jardim Luzitânia', 'Vila Uberabinha',\n",
              "       'Jardim Prudência', 'Lauzane Paulista', 'Jardim Santa Maria',\n",
              "       'Vila Nova', 'Itaberaba', 'Vila Nova Conceição', 'Jardim da Saúde',\n",
              "       'Jardim Santo Antônio', 'Vila Mazzei', 'Vila Madalena',\n",
              "       'Jardim Ivana', 'Vila Campo Grande', 'Vila Gomes Cardim',\n",
              "       'Bela Aliança', 'Vila Albertina', 'Cidade Jardim',\n",
              "       'Parque da Lapa', 'Vila Libanesa', 'Cidade Domitila',\n",
              "       'Vila Nova Savoia', 'Jardim Maria Estela', 'Parque São Rafael',\n",
              "       'Vila Bandeirantes', 'Parque Colonial', 'Vila Califórnia',\n",
              "       'Jardim das Imbuias', 'Vila Tramontano', 'Vila Nancy',\n",
              "       'Parada Inglesa', 'Jardim Leonor Mendes de Barros', 'Jardim Iva',\n",
              "       'Jardim Amália', 'Vila dos Remédios', 'Brooklin Paulista',\n",
              "       'Tremembé', 'Vila Minerva', 'Pirituba', 'Vila Cordeiro',\n",
              "       'Chácara Santo Antônio (Zona Sul)', 'Jardim Guedala',\n",
              "       'Parque Boturussu', 'Vila Arriete', 'Jardim Europa',\n",
              "       'Alto da Lapa', 'Vila Formosa', 'Quinta da Paineira',\n",
              "       'Vila Jaguara', 'Alto da Boa Vista', 'Vila Clarice',\n",
              "       'Jardim América', 'Jardim Paulista', 'Tucuruvi',\n",
              "       'Parque Continental', 'Penha de França', 'Perdizes',\n",
              "       'Conjunto Residencial José Bonifácio', 'Cidade Vargas',\n",
              "       'Jardim Maria Luiza', 'Mirandópolis', 'Jardim do Carmo',\n",
              "       'Jardim Leonor', 'Alto de Pinheiros', 'Vila Suzana',\n",
              "       'Vila Brasílio Machado', 'Jardim das Vertentes', 'Campo Belo',\n",
              "       'Vila Regente Feijó', 'Vila Tolstoi',\n",
              "       'Terceira Divisão de Interlagos', 'Vila Moinho Velho',\n",
              "       'Vila Mariana', 'Jardim Imperador (Zona Leste)', 'Vila Aricanduva',\n",
              "       'Sumaré', 'Boaçava', 'Vila Gustavo', 'Vila Carolina',\n",
              "       'Vila Romana', 'Vila Leopoldina', 'Vila São Paulo',\n",
              "       'Jardim Bandeirantes (Zona Norte)', 'Jardim Jaraguá', 'Vila Morse',\n",
              "       'Itaquera', 'Vila Talarico', 'Vila Matilde', 'Vila Laís',\n",
              "       'Jardim Marajoara', 'Vila Pompéia', 'Jardim Trussardi', 'Caxingui',\n",
              "       'Barra Funda', 'Vila Santos', 'Vila João Batista',\n",
              "       'Jardim Nova Germania', 'Vila Antonieta', 'Bosque da Saúde',\n",
              "       'Chácara Santo Antônio (Zona Leste)', 'Butantã',\n",
              "       'Jardim Paulistano', 'Jardim da Glória', 'Jardim Petrópolis',\n",
              "       'Vila Aparecida', 'Siciliano', 'Tatuapé', 'Jardim Cordeiro',\n",
              "       'Parque Casa de Pedra', 'Morumbi', 'Praia Azul',\n",
              "       'São João Clímaco', 'Lapa', 'Vila Prudente', 'Capela do Socorro',\n",
              "       'Parque Santa Madalena', 'Vila Ida', 'Jardim Vivan', 'Vila Marari',\n",
              "       'Jardim Aurélia', 'Cursino', 'Cidade Dutra', 'Jardim São Luís',\n",
              "       'Água Fria', 'Belenzinho', 'Vila Ipojuca', 'Vila Sônia',\n",
              "       'Jardim Panorama', 'Jardim Ampliação', 'Cerqueira César', 'Pari',\n",
              "       'Vila Sabrina', 'Ipiranga', 'Vila Olímpia',\n",
              "       'Jardim Sílvia (Zona Oeste)', 'Jardim Franca', 'Vila Dom Pedro I',\n",
              "       'Vila Euthalia', 'Santana', 'Barro Branco (Zona Norte)',\n",
              "       'Vila Corberi', 'São Judas', 'Interlagos', 'Vila Carrão',\n",
              "       'Morro dos Ingleses', 'Chácara Inglesa', 'Parque Savoy City',\n",
              "       'Pacaembu', 'Aclimação', 'Nossa Senhora do Ó',\n",
              "       'Jardim Três Marias', 'Campininha', 'Cidade Monções',\n",
              "       'Vila Santa Maria', 'Jardim Santo Amaro', 'Vila Bela',\n",
              "       'Vila Guarani (Z Sul)', 'Vila das Belezas',\n",
              "       'Jardim Brasil (Zona Norte)', 'Vila Moraes',\n",
              "       'Jardim Alvorada (Zona Oeste)', 'Jardim Londrina', 'Vila Zelina',\n",
              "       'Vila Guilherme', 'Parque da Vila Prudente',\n",
              "       'Parque Alves de Lima', 'Chácara Flora', 'Jardim Camargo Novo',\n",
              "       'Jardim Vila Formosa', 'Jardim Planalto', 'Jardim Patente Novo',\n",
              "       'Vila Água Funda', 'Jardim das Camélias', 'Jardim Virginia Bianca',\n",
              "       'Água Branca', \"Jardim D'Abril\", 'Jardim São Paulo(Zona Norte)',\n",
              "       'Vila Rosaria', 'Jardim Ana Maria', 'Jardim Viana', 'Indianópolis',\n",
              "       'Granja Julieta', 'Jardim Célia (Zona Sul)', 'Parque Maria Helena',\n",
              "       'Parque Guarani', 'Jardim Vista Linda', 'Vila Inah',\n",
              "       'Vila Brasilina', 'Cambuci', 'Vila Congonhas', 'Cidade Patriarca',\n",
              "       'Vila Pirituba', 'Vila Fachini', 'Vila Ema', 'Veleiros',\n",
              "       'Vila Antônio dos Santos', 'Itaim Bibi',\n",
              "       'Conjunto Residencial Vista Verde', 'Parque das Paineiras',\n",
              "       'Vila Dom Pedro II', 'Vila Gumercindo', 'Vila Bancária Munhoz',\n",
              "       'Moema', 'Cidade Líder', 'Parque São Domingos', 'Vila Santa Clara',\n",
              "       'Vila Carioca', 'Jardim Consórcio', 'Vila Hebe', 'Quarta Parada',\n",
              "       'Vila São José (Ipiranga)', 'Jardim Anália Franco', 'Saúde',\n",
              "       'Jardim das Bandeiras', 'Sumarezinho', 'Jardim Santo Elias',\n",
              "       'Vila Moreira', 'Vila Morumbi', 'Jardim Vila Carrão', 'Casa Verde',\n",
              "       'Chácara Japonesa', 'Jardim Bonfiglioli', 'City América',\n",
              "       'Pinheiros', 'Parque Fernanda', 'Fazenda Morumbi', 'Parque Munhoz',\n",
              "       'Vila Antônio', 'Jardim Novo Mundo', 'Higienópolis',\n",
              "       'Vila Bertioga', 'Jardim Everest', 'Retiro Morumbi',\n",
              "       'Paineiras do Morumbi', 'Vila Londrina', \"Jardim Panorama D'Oeste\",\n",
              "       'Cidade São Mateus', 'Paraíso', 'Vila Progredior',\n",
              "       'Jardim Casablanca', 'Chácara Belenzinho', 'Jardim Peri Peri',\n",
              "       'Vila Cláudia', 'Vila Butantã', 'Jardim Vila Mariana',\n",
              "       'Jardim Peri', 'Parque CíSão Pauloer', 'Parque Ipê',\n",
              "       'Vila Alexandria', 'Consolação', 'Brooklin Novo',\n",
              "       'Chácara Monte Alegre', 'Real Parque', 'Mandaqui',\n",
              "       'Jardim São Bento', 'Super Quadra Morumbi', 'Vila Sílvia',\n",
              "       'Parque Jabaquara', 'Jabaquara', 'Jardim Nossa Senhora do Carmo',\n",
              "       'Pompeia', 'Jardim Celeste', 'Vila Santa Catarina',\n",
              "       'Vila Comercial', 'Água Rasa', 'Carandiru', 'Vila Mascote',\n",
              "       'Vila Gea', 'Vila Pirajussara', 'Vila Oratório',\n",
              "       'Jardim das Laranjeiras', 'Vila Lageado', 'Jardim Colombo',\n",
              "       'Vila Perus', 'Jardim Satélite', 'Vila Isolina Mazzei',\n",
              "       'Cidade São Francisco', 'Parque Mandaqui', 'Jardim Tremembé',\n",
              "       'Vila Nivi', 'Vila Canero', 'Vila Buenos Aires', 'Lapa de Baixo',\n",
              "       'Jardim Tietê', 'Vila Araguaia', 'Vila Lúcia',\n",
              "       'Jardim Brasil (Zona Sul)', 'Jardim Vitória Régia',\n",
              "       'Praia da Lagoa', 'Vila Nova Mazzei', 'Canindé', 'Vila Tiradentes',\n",
              "       'Vila São Francisco', 'Lar São Paulo', 'Vila Palmeiras',\n",
              "       'Chácara Califórnia', 'Vila Maria Alta',\n",
              "       'Instituto de Previdência', 'Jardim Aeroporto',\n",
              "       'Vila Anglo Brasileira', 'Vila Andrade', 'Horto Florestal',\n",
              "       'Vila Amélia', 'Parque da Mooca', 'Vila Hamburguesa',\n",
              "       'Jardim Umuarama', 'Santa Cecília', 'Vila Ré', 'Brooklin',\n",
              "       'Jardins', 'Vila Vera', 'Jardim Monte Kemel', 'Jardim Monte Azul',\n",
              "       'Vila Isa', 'Vila Cruzeiro', 'Vila Anastácio',\n",
              "       'São Miguel Paulista', 'Jurubatuba', 'Vila Salete', 'Chora Menino',\n",
              "       'Vila Nova Alba', 'Vila Nova Caledonia', 'Vila Nova Cachoeirinha',\n",
              "       'Vila Constança', 'Vila Carbone', 'Alto da Mooca', 'Vila Adalgisa',\n",
              "       'Vila São Geraldo', 'Vila ESão Pauloerança', 'Jardim Ester',\n",
              "       'Vila Ester (Zona Norte)', 'Jardim das Acácias', 'Jardim Patente',\n",
              "       'Parque dos Príncipes', 'Vila São Silvestre',\n",
              "       'Vila Diva (Zona Leste)', 'Chácara Tatuapé', 'Santa Teresinha',\n",
              "       'Jardim Vera Cruz', 'Vila Clementino',\n",
              "       'Conjunto Habitacional Barreira Grande', 'Vila do Encontro',\n",
              "       'Jardim Dracena', 'Vila das Mercês', 'Casa Verde Alta',\n",
              "       'Jardim dos Cataldis', 'Vila Deodoro', 'Jardim Maracanã',\n",
              "       'Jardim Maringá', 'Parque Residencial Oratorio',\n",
              "       'Conjunto Residencial Jardim Canaã',\n",
              "       'Jardim Santa Cruz (Campo Grande)', 'Vila da Saúde',\n",
              "       'Jardim Triana', 'Vila Liviero', 'Vila Medeiros', 'Jardim Penha',\n",
              "       'Jardim Vaz de Lima', 'Jardim Textil', 'Paraíso do Morumbi',\n",
              "       'Jardim Hípico', 'Vila Firmiano Pinto',\n",
              "       'Jardim Ipanema (Zona Sul)', 'Vila Fernandes', 'Cidade Centenário',\n",
              "       'Jaguaré', 'Jardim Odete', 'Jardim Miriam', 'Vila Santo Estéfano',\n",
              "       'Vila Rica', 'Jardim Petropolis', 'Vila Caraguatá', 'Vila Jacuí',\n",
              "       'Vila Califórnia(Zona Sul)', 'Sacomã', 'Vila Mafra', 'Vila Carrao',\n",
              "       'Parque Vitória', 'Vila Invernada', 'Vila Clara',\n",
              "       'Vila Anhangüera', 'Jardim Caravelas', 'Cupecê', 'Jardim Rizzo',\n",
              "       'Vila Império', 'Vila Nelson', 'Parque Santa Cecília',\n",
              "       'Jardim Olympia', 'Vila Inglesa', 'Vila Macedópolis',\n",
              "       'Vila Nova Curuçá', 'Vila Paiva', 'Jardim Analia Franco',\n",
              "       'Vila Prado', 'Liberdade', 'Jardim Maria Duarte', 'Parque Sevilha',\n",
              "       'Jardim Santa Helena', 'Vila Sonia', 'Vila Marieta',\n",
              "       'Conjunto Residencial Bandeirantes', 'Jardim Eliana', 'Vila Gomes',\n",
              "       'Conjunto Residencial Butantã', 'Paraisópolis', 'Jardim Teresa',\n",
              "       'Jardim Brasília (Zona Leste)', 'Jardim Danfer',\n",
              "       'Parque Ramos Freitas', 'Bom Retiro', 'Vila Rio Branco',\n",
              "       'Chácara das Paineiras', 'Vila Pedroso', 'Vila Universitária',\n",
              "       'Jardim Campo Grande', 'Brás', 'Chácara Meyer', 'Vila Paulicéia',\n",
              "       'Rio Pequeno', 'Vila Nair', 'Jardim Taboão', 'Capão Redondo',\n",
              "       'Jardim Panorama (Zona Leste)', 'Vila Santana', 'Vila Guilhermina',\n",
              "       'Vila Aurora (Zona Norte)', 'Vila Carlos de Campos',\n",
              "       'Vila Castelo', 'Campo Grande', 'Parque Novo Mundo',\n",
              "       'Jardim Cidália', 'Vila Cardoso Franco', 'Jardim Oriental',\n",
              "       'Jardim Taboao', 'Guaianases', 'Jardim Catanduva',\n",
              "       'Jardim Colorado', 'Jardim Esmeralda', 'Vila São José',\n",
              "       'Vila Maria Baixa', 'Vila Baby', 'Jardim Tenani', 'Jardim Gonzaga',\n",
              "       'Vila Campestre', 'Parque Fongaro', 'Chácara Mafalda',\n",
              "       'Vila São Francisco (Zona Sul)', 'Imirim', 'Parque São Lucas',\n",
              "       'Vila Santa Teresa (Zona Leste)', 'Jardim Floresta',\n",
              "       'Sítio da Figueira', 'Chácara Jaraguá', 'Vila Nova Caledônia',\n",
              "       'Vila Ivg', 'Vila América', 'Vila Analia', 'Parque Santa Rita',\n",
              "       'Vila Rui Barbosa', 'Campos Elíseos', 'Jardim de Lorenzo',\n",
              "       'Parque Edu Chaves', 'Conjunto Promorar Raposo Tavares',\n",
              "       'Jardim Germânia', 'Vila Dalila', 'Vila Primavera', 'Brasilândia',\n",
              "       'Vila Antonina', 'Socorro', 'Vila Celeste', 'Jardim Nove de Julho',\n",
              "       'Jardim Ernestina', 'Vila Noca', 'Jardim Cidade Pirituba',\n",
              "       'Vila Santa Virginia', 'Vila do Bosque', 'Jardim Itapeva',\n",
              "       'Parada XV de Novembro', 'Vila Nhocune', 'Jardim Bélgica',\n",
              "       'Jardim Jussara', 'Jardim Vergueiro (Sacomã)', 'Vila Guedes',\n",
              "       'Jardim São Carlos (Zona Sul)', 'Vila Santa Edwiges', 'Rio Bonito',\n",
              "       'Jardim Vera Cruz(Zona Leste)', 'Vila Almeida',\n",
              "       'Chácara Seis de Outubro', 'Vila Polopoli', 'Vila Virginia',\n",
              "       'Vila Boaçava', 'Vila do Castelo', 'Jardim Rosa Maria',\n",
              "       'Jardim Santa Adélia', 'Vila Nova Manchester', 'Vila Agueda',\n",
              "       'Jardim Monte Alegre', 'Jardim Avelino', 'Vila Indiana',\n",
              "       'Jardim Jabaquara', 'Jardim Morro Verde', 'Jardim Modelo',\n",
              "       'Ibirapuera', 'Jardim Paraíso', 'Balneário Mar Paulista',\n",
              "       'Jardim Ponte Rasa', 'Jardim Marília', 'Jardim Raposo Tavares',\n",
              "       'Jardim Niteroi', 'Vila Irmãos Arnoni', 'Vila Parque Jabaquara',\n",
              "       'Vila Paulo Silas', 'Jardim Castelo', 'Vila Barbosa',\n",
              "       'Parque Imperial', 'Vila Represa', 'Jaraguá', 'Vila Mira',\n",
              "       'Jardim Coimbra', 'Sítio do Mandaqui', 'Sítio Represa', 'Ferreira',\n",
              "       'Jardim Vitoria Regia', 'Cidade Ademar', 'Nova Piraju',\n",
              "       'Vila Paulista', 'Rolinópolis', 'Vila Picinin',\n",
              "       'Parque Nações Unidas', 'Jardim Maria Augusta', 'Vila Sofia',\n",
              "       'Jardim São Jorge', 'Parque do Castelo',\n",
              "       'Jardim do Colégio (Zona Norte)', 'Parque Peruche', 'Jardim Carlu',\n",
              "       'São Lucas', 'Burgo Paulista', 'Maranhão', 'Jardim Mangalot',\n",
              "       'Jardim Japão', 'Praia Paulistinha', 'Catumbi', 'Vila Cleonice',\n",
              "       'Piqueri', 'Jardim dos Pinheiros', 'Jardim Popular',\n",
              "       'Vila Pereira Barreto', 'Vila Sao Paulo', 'Vila Monte Alegre',\n",
              "       'Jardim Heliomar', 'Jardim Botucatu', 'Vila Curuçá', 'Vila Jurema',\n",
              "       'Vila Independência', nan, 'Água Funda', 'Vila Romero',\n",
              "       'Vila São Vicente', 'Jardim Riviera', 'Jardim Aricanduva',\n",
              "       'Vila Campanela', 'Vila Romano', 'Vila Simone', 'Jardim Guairaca',\n",
              "       'Jardim Sarah', 'Parque Maria Fernandes', 'Vila Piauí',\n",
              "       'Jardim Anhanguera', 'Vila Bela Aliança', 'Jardim Promissão',\n",
              "       'Vila Industrial', 'Vila Cunha Bueno', 'Vila São Domingos',\n",
              "       'Vila Domitila', 'Educandário', 'Vila Neila', 'Bortolândia',\n",
              "       'Vila Paranaguá', 'Vila Ayrosa', 'Jardim Cláudia',\n",
              "       'Jardim Dom Bosco', 'Jardim Ubirajara', 'Jardim dos Prados',\n",
              "       'Jardim Ester Yolanda', 'Jardim Cristal', 'Vila Olinda',\n",
              "       'Parque Regina', 'Jardim Primavera (Zona Sul)', 'Vila Roseira II',\n",
              "       'Jardim Santa Fé (Zona Sul)', 'Vila Elvira', 'Jardim Guarau',\n",
              "       'Jardim da Pedreira', 'Jardim Luanda', 'Jardim Ibitirama',\n",
              "       'Jardim São Carlos (Zona Leste)', 'Vila Carmosina',\n",
              "       'Vila Santa Teresa (Zona Sul)', 'Vila Duarte', 'Vila Aurea',\n",
              "       'Vila Emir', 'Jardim Leila', 'Conjunto Residencial Morada do Sol',\n",
              "       'Recanto dos Sonhos', 'Jardim Tremembe', 'Jardim Guapira',\n",
              "       'Vila Vasconcelos', 'Parque do Terceiro Lago',\n",
              "       'Jardim Boa Vista (Zona Oeste)', 'Jardim Sul São Paulo',\n",
              "       'Vila Dorna', 'Engenheiro Goulart',\n",
              "       'Vila Santa Terezinha (Zona Norte)', 'Vila Leonor',\n",
              "       'Jardim Rincão', 'Jardim Sabará', 'Jardim Colonial', 'Aricanduva',\n",
              "       'Jardim Palmares (Zona Sul)', 'Vila Darli', 'Jardim Nice',\n",
              "       'Jardim Fernandes', 'Vila Constancia', 'Jardim Itapemirim',\n",
              "       'Jardim Pirituba', 'Jardim Felicidade (Zona Oeste)',\n",
              "       'Jardim Arize', 'Parque Maria Domitila', 'Jardim São José',\n",
              "       'Vila Joaniza', 'Parque Santo Antônio (Aricanduva)',\n",
              "       'Jardim Cidalia', 'Vila Dalva', 'Jardim Santa Cruz (Sacomã)',\n",
              "       'Vila Gertrudes', 'Vila Pita', 'Jardim Parque Morumbi',\n",
              "       'Jardim Cambara', 'Conjunto Habitacional Castro Alves',\n",
              "       'Vila Natália', 'Parque Residencial Julia', 'Vila Ivone',\n",
              "       'Vila Babilônia', 'Jardim Egle', 'Jardim Guarapiranga',\n",
              "       'Jardim Pinheiros', 'Jardim Record', 'Bela Vista',\n",
              "       'Vila Conde do Pinhal', 'Guaianazes', 'Jardim Rio Pequeno',\n",
              "       'Parque Monteiro Soares', 'Jardim Ipanema (Zona Oeste)',\n",
              "       'Jardim Cotiana', 'Jardim Avenida', 'Jardim São Nicolau',\n",
              "       'Jardim Morais Prado', 'Vila Santo Estevão', 'Vila Rosa',\n",
              "       'Vila Vitório Mazzei', 'Jardim do Campo', 'Jardim Independência',\n",
              "       'Vila Nilo', 'Vila Nova Pauliceia', 'Limoeiro',\n",
              "       'Jardim São Jorge (Raposo Tavares)', 'Vila Fiat Lux',\n",
              "       'Jardim Íris', 'Vila Santo Antônio', 'Jardim Domitila',\n",
              "       'Vila Bonilha Nova', 'Jardim Umarizal',\n",
              "       'Cidade Antônio Estevão de Carvalho', 'Jardim Catarina',\n",
              "       'Jardim Taquaral', 'Vila Ponte Rasa', 'Jardim Jaú (Zona Leste)',\n",
              "       'Jardim Guanca', 'Jardim Lourdes', 'Vila Pedra Branca',\n",
              "       'Vila Guaca', 'Cidade dos Bandeirantes', 'Vila União(Zona Norte)',\n",
              "       'Jardim Itacolomi', 'Parque São Jorge', 'Vila Reis',\n",
              "       'Parque das Árvores', 'Vila São Pedro', 'Jardim das Carmelitas'],\n",
              "      dtype=object)"
            ]
          },
          "metadata": {},
          "execution_count": 71
        }
      ]
    },
    {
      "cell_type": "code",
      "source": [
        "# Forma 2\n",
        "pd.DataFrame(data=dados.Bairro.drop_duplicates())"
      ],
      "metadata": {
        "colab": {
          "base_uri": "https://localhost:8080/",
          "height": 424
        },
        "id": "bIyrLBFyJt_T",
        "outputId": "5eae64d8-bbe1-405b-b7cd-99f3125b731b"
      },
      "execution_count": 74,
      "outputs": [
        {
          "output_type": "execute_result",
          "data": {
            "text/plain": [
              "                     Bairro\n",
              "0         Planalto Paulista\n",
              "1        Jardim dos Estados\n",
              "2           Jardim Reimberg\n",
              "3            Jardim Morumbi\n",
              "4                     Mooca\n",
              "...                     ...\n",
              "9815       Parque São Jorge\n",
              "9843              Vila Reis\n",
              "9862     Parque das Árvores\n",
              "9920         Vila São Pedro\n",
              "9924  Jardim das Carmelitas\n",
              "\n",
              "[702 rows x 1 columns]"
            ],
            "text/html": [
              "\n",
              "  <div id=\"df-1b49cbd0-b6e3-4547-a341-e30f094c1550\">\n",
              "    <div class=\"colab-df-container\">\n",
              "      <div>\n",
              "<style scoped>\n",
              "    .dataframe tbody tr th:only-of-type {\n",
              "        vertical-align: middle;\n",
              "    }\n",
              "\n",
              "    .dataframe tbody tr th {\n",
              "        vertical-align: top;\n",
              "    }\n",
              "\n",
              "    .dataframe thead th {\n",
              "        text-align: right;\n",
              "    }\n",
              "</style>\n",
              "<table border=\"1\" class=\"dataframe\">\n",
              "  <thead>\n",
              "    <tr style=\"text-align: right;\">\n",
              "      <th></th>\n",
              "      <th>Bairro</th>\n",
              "    </tr>\n",
              "  </thead>\n",
              "  <tbody>\n",
              "    <tr>\n",
              "      <th>0</th>\n",
              "      <td>Planalto Paulista</td>\n",
              "    </tr>\n",
              "    <tr>\n",
              "      <th>1</th>\n",
              "      <td>Jardim dos Estados</td>\n",
              "    </tr>\n",
              "    <tr>\n",
              "      <th>2</th>\n",
              "      <td>Jardim Reimberg</td>\n",
              "    </tr>\n",
              "    <tr>\n",
              "      <th>3</th>\n",
              "      <td>Jardim Morumbi</td>\n",
              "    </tr>\n",
              "    <tr>\n",
              "      <th>4</th>\n",
              "      <td>Mooca</td>\n",
              "    </tr>\n",
              "    <tr>\n",
              "      <th>...</th>\n",
              "      <td>...</td>\n",
              "    </tr>\n",
              "    <tr>\n",
              "      <th>9815</th>\n",
              "      <td>Parque São Jorge</td>\n",
              "    </tr>\n",
              "    <tr>\n",
              "      <th>9843</th>\n",
              "      <td>Vila Reis</td>\n",
              "    </tr>\n",
              "    <tr>\n",
              "      <th>9862</th>\n",
              "      <td>Parque das Árvores</td>\n",
              "    </tr>\n",
              "    <tr>\n",
              "      <th>9920</th>\n",
              "      <td>Vila São Pedro</td>\n",
              "    </tr>\n",
              "    <tr>\n",
              "      <th>9924</th>\n",
              "      <td>Jardim das Carmelitas</td>\n",
              "    </tr>\n",
              "  </tbody>\n",
              "</table>\n",
              "<p>702 rows × 1 columns</p>\n",
              "</div>\n",
              "      <button class=\"colab-df-convert\" onclick=\"convertToInteractive('df-1b49cbd0-b6e3-4547-a341-e30f094c1550')\"\n",
              "              title=\"Convert this dataframe to an interactive table.\"\n",
              "              style=\"display:none;\">\n",
              "        \n",
              "  <svg xmlns=\"http://www.w3.org/2000/svg\" height=\"24px\"viewBox=\"0 0 24 24\"\n",
              "       width=\"24px\">\n",
              "    <path d=\"M0 0h24v24H0V0z\" fill=\"none\"/>\n",
              "    <path d=\"M18.56 5.44l.94 2.06.94-2.06 2.06-.94-2.06-.94-.94-2.06-.94 2.06-2.06.94zm-11 1L8.5 8.5l.94-2.06 2.06-.94-2.06-.94L8.5 2.5l-.94 2.06-2.06.94zm10 10l.94 2.06.94-2.06 2.06-.94-2.06-.94-.94-2.06-.94 2.06-2.06.94z\"/><path d=\"M17.41 7.96l-1.37-1.37c-.4-.4-.92-.59-1.43-.59-.52 0-1.04.2-1.43.59L10.3 9.45l-7.72 7.72c-.78.78-.78 2.05 0 2.83L4 21.41c.39.39.9.59 1.41.59.51 0 1.02-.2 1.41-.59l7.78-7.78 2.81-2.81c.8-.78.8-2.07 0-2.86zM5.41 20L4 18.59l7.72-7.72 1.47 1.35L5.41 20z\"/>\n",
              "  </svg>\n",
              "      </button>\n",
              "      \n",
              "  <style>\n",
              "    .colab-df-container {\n",
              "      display:flex;\n",
              "      flex-wrap:wrap;\n",
              "      gap: 12px;\n",
              "    }\n",
              "\n",
              "    .colab-df-convert {\n",
              "      background-color: #E8F0FE;\n",
              "      border: none;\n",
              "      border-radius: 50%;\n",
              "      cursor: pointer;\n",
              "      display: none;\n",
              "      fill: #1967D2;\n",
              "      height: 32px;\n",
              "      padding: 0 0 0 0;\n",
              "      width: 32px;\n",
              "    }\n",
              "\n",
              "    .colab-df-convert:hover {\n",
              "      background-color: #E2EBFA;\n",
              "      box-shadow: 0px 1px 2px rgba(60, 64, 67, 0.3), 0px 1px 3px 1px rgba(60, 64, 67, 0.15);\n",
              "      fill: #174EA6;\n",
              "    }\n",
              "\n",
              "    [theme=dark] .colab-df-convert {\n",
              "      background-color: #3B4455;\n",
              "      fill: #D2E3FC;\n",
              "    }\n",
              "\n",
              "    [theme=dark] .colab-df-convert:hover {\n",
              "      background-color: #434B5C;\n",
              "      box-shadow: 0px 1px 3px 1px rgba(0, 0, 0, 0.15);\n",
              "      filter: drop-shadow(0px 1px 2px rgba(0, 0, 0, 0.3));\n",
              "      fill: #FFFFFF;\n",
              "    }\n",
              "  </style>\n",
              "\n",
              "      <script>\n",
              "        const buttonEl =\n",
              "          document.querySelector('#df-1b49cbd0-b6e3-4547-a341-e30f094c1550 button.colab-df-convert');\n",
              "        buttonEl.style.display =\n",
              "          google.colab.kernel.accessAllowed ? 'block' : 'none';\n",
              "\n",
              "        async function convertToInteractive(key) {\n",
              "          const element = document.querySelector('#df-1b49cbd0-b6e3-4547-a341-e30f094c1550');\n",
              "          const dataTable =\n",
              "            await google.colab.kernel.invokeFunction('convertToInteractive',\n",
              "                                                     [key], {});\n",
              "          if (!dataTable) return;\n",
              "\n",
              "          const docLinkHtml = 'Like what you see? Visit the ' +\n",
              "            '<a target=\"_blank\" href=https://colab.research.google.com/notebooks/data_table.ipynb>data table notebook</a>'\n",
              "            + ' to learn more about interactive tables.';\n",
              "          element.innerHTML = '';\n",
              "          dataTable['output_type'] = 'display_data';\n",
              "          await google.colab.output.renderOutput(dataTable, element);\n",
              "          const docLink = document.createElement('div');\n",
              "          docLink.innerHTML = docLinkHtml;\n",
              "          element.appendChild(docLink);\n",
              "        }\n",
              "      </script>\n",
              "    </div>\n",
              "  </div>\n",
              "  "
            ]
          },
          "metadata": {},
          "execution_count": 74
        }
      ]
    },
    {
      "cell_type": "markdown",
      "source": [
        "# Desafio 3: Explorar alguns gráficos na documentação e aplicar nas demais colunas do DF, assim como tentar colocar alguma conclusão."
      ],
      "metadata": {
        "id": "3zJL3h5xKQW8"
      }
    },
    {
      "cell_type": "code",
      "source": [
        "dados_bairro['Vagas'].head(20).plot.area()"
      ],
      "metadata": {
        "colab": {
          "base_uri": "https://localhost:8080/",
          "height": 297
        },
        "id": "p4eg7VdYJ9yi",
        "outputId": "90131a71-9343-4d90-b087-37f1e960a2a6"
      },
      "execution_count": 80,
      "outputs": [
        {
          "output_type": "execute_result",
          "data": {
            "text/plain": [
              "<matplotlib.axes._subplots.AxesSubplot at 0x7f08b8f6ae50>"
            ]
          },
          "metadata": {},
          "execution_count": 80
        },
        {
          "output_type": "display_data",
          "data": {
            "text/plain": [
              "<Figure size 432x288 with 1 Axes>"
            ],
            "image/png": "[encoded data removed]"
          },
          "metadata": {
            "needs_background": "light"
          }
        }
      ]
    },
    {
      "cell_type": "code",
      "source": [
        "dados_bairro['Quartos'].head(20).plot.line()"
      ],
      "metadata": {
        "colab": {
          "base_uri": "https://localhost:8080/",
          "height": 297
        },
        "id": "MINO4t_YKvMU",
        "outputId": "97f55507-f8bc-48ab-95f1-a890e4a08551"
      },
      "execution_count": 83,
      "outputs": [
        {
          "output_type": "execute_result",
          "data": {
            "text/plain": [
              "<matplotlib.axes._subplots.AxesSubplot at 0x7f08b8e3ebd0>"
            ]
          },
          "metadata": {},
          "execution_count": 83
        },
        {
          "output_type": "display_data",
          "data": {
            "text/plain": [
              "<Figure size 432x288 with 1 Axes>"
            ],
            "image/png": "[encoded data removed]"
          },
          "metadata": {
            "needs_background": "light"
          }
        }
      ]
    },
    {
      "cell_type": "code",
      "source": [
        "dados_bairro['Banheiros'].head(20).plot.box()"
      ],
      "metadata": {
        "colab": {
          "base_uri": "https://localhost:8080/",
          "height": 282
        },
        "id": "v2oyM-t8LN9z",
        "outputId": "84dcf994-3469-452b-fcb0-ff8a7ba3ba16"
      },
      "execution_count": 86,
      "outputs": [
        {
          "output_type": "execute_result",
          "data": {
            "text/plain": [
              "<matplotlib.axes._subplots.AxesSubplot at 0x7f08b8dbf450>"
            ]
          },
          "metadata": {},
          "execution_count": 86
        },
        {
          "output_type": "display_data",
          "data": {
            "text/plain": [
              "<Figure size 432x288 with 1 Axes>"
            ],
            "image/png": "[encoded data removed]"
          },
          "metadata": {
            "needs_background": "light"
          }
        }
      ]
    },
    {
      "cell_type": "code",
      "source": [
        ""
      ],
      "metadata": {
        "id": "8Szfqsl7LdjD"
      },
      "execution_count": null,
      "outputs": []
    },
    {
      "cell_type": "markdown",
      "source": [
        "# Desafio 4: Pegar outras estatísticas dos dados (como média, mediana, mim, max). "
      ],
      "metadata": {
        "id": "VEVvrvejLjK1"
      }
    },
    {
      "cell_type": "code",
      "source": [
        "filtrar = input(\"Escolha o bairro: \")\n",
        "dados_filtrados = (dados['Bairro'] == filtrar)\n",
        "filtro = dados[dados_filtrados]\n",
        "media = filtro['Metragem'].mean()\n",
        "mediana = filtro['Metragem'].median()\n",
        "soma = filtro['Metragem'].sum()\n",
        "max = filtro['Metragem'].max()\n",
        "min = filtro['Metragem'].min()\n",
        "\n",
        "print(f'O bairro buscado foi:  {filtrar}\\nA média de metragem do bairro {filtrar} é de: {media:.2f}\\nO bairro {filtrar} contém uma mediana de {mediana}\\nA metragem máxima do bairro {filtrar} é de {max}\\nA metragem mínima do bairro {filtrar} é de: {min}')"
      ],
      "metadata": {
        "colab": {
          "base_uri": "https://localhost:8080/"
        },
        "id": "qJJ4IedULquy",
        "outputId": "e8bb1d21-45bc-427c-ef7a-8408e00f390f"
      },
      "execution_count": 100,
      "outputs": [
        {
          "output_type": "stream",
          "name": "stdout",
          "text": [
            "Escolha o bairro: Vila Mariana\n",
            "O bairro buscado foi:  Vila Mariana\n",
            "A média de metragem do bairro Vila Mariana é de: 233.62\n",
            "O bairro Vila Mariana contém uma mediana de 235.5\n",
            "A metragem máxima do bairro Vila Mariana é de 650\n",
            "A metragem mínima do bairro Vila Mariana é de: 60\n"
          ]
        }
      ]
    },
    {
      "cell_type": "code",
      "source": [
        ""
      ],
      "metadata": {
        "id": "5zbC0JIPL2Su"
      },
      "execution_count": null,
      "outputs": []
    },
    {
      "cell_type": "markdown",
      "source": [
        "# Desafio 5: Descobrir quais são os bairros que não tem nome de rua."
      ],
      "metadata": {
        "id": "NtEDG-5rOJZ4"
      }
    },
    {
      "cell_type": "code",
      "source": [
        "print(f'No dataset há um total de {sum(dados.Bairro.isnull())} bairros sem nome!')"
      ],
      "metadata": {
        "colab": {
          "base_uri": "https://localhost:8080/"
        },
        "id": "7ec5qOGRONWD",
        "outputId": "29b086e7-ba09-4b96-c6f7-ea21e3890ffc"
      },
      "execution_count": 105,
      "outputs": [
        {
          "output_type": "stream",
          "name": "stdout",
          "text": [
            "No dataset há um total de 12 bairros sem nome!\n"
          ]
        }
      ]
    },
    {
      "cell_type": "code",
      "source": [
        ""
      ],
      "metadata": {
        "id": "HoT8ZG0tORkl"
      },
      "execution_count": null,
      "outputs": []
    }
  ]
}